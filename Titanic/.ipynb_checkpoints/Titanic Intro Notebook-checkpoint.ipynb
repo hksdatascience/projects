{
 "cells": [
  {
   "cell_type": "markdown",
   "metadata": {},
   "source": [
    "## Data Science Club: Titanic Survival Prediction\n",
    "\n",
    "#### Titanic Dataset and Kaggle Challenge can be found at this site: https://www.kaggle.com/c/titanic\n",
    "\n",
    "\n",
    "##### Overview:\n",
    "The Titanic survival prediction is an introductory machine learning challenge found on Kaggle. There are 2 datasets that are likely to be useful for us.\n",
    "\n",
    "###### Datasets:\n",
    "\n",
    "1) Train.csv: This dataset has 891 passengers on the Titanic, and 12 variables about them. One of these variables is whether the passenger survived on the Titanic or not. \n",
    "\n",
    "2) Test.csv: This dataset has 418 passengers on the Titanic, and 11 variables about them. This dataset requires us to predict which of these 418 passengers survived using these 11 variables. The test.csv will also make up our final submission to Kaggle. \n",
    "\n",
    "3) Titanic.csv: This is a dataset that Data Science Club put together that is cleaned and a little easier to work with! You can use this data to create a simple model if you want. \n",
    "\n",
    "\n",
    "###### Variables:\n",
    "\n",
    "<li>PassengerIdUnique ID of the passenger</li>\n",
    "<li>SurvivedSurvived (1) or died (0)</li>\n",
    "<li>PclassPassenger's class (1st, 2nd, or 3rd)</li>\n",
    "<li>NamePassenger's name</li>\n",
    "<li>SexPassenger's sex</li>\n",
    "<li>AgePassenger's age</li>\n",
    "<li>SibSpNumber of siblings/spouses aboard the Titanic</li>\n",
    "<li>ParchNumber of parents/children aboard the Titanic</li>\n",
    "<li>TicketTicket number</li>\n",
    "<li>FareFare paid for ticket</li>\n",
    "<li>CabinCabin number</li>\n",
    "<li>EmbarkedWhere the passenger got on the ship \n",
    " (C - Cherbourg, S - Southampton, Q = Queenstown)</li>\n",
    " \n",
    " \n",
    "###### Also on Github:\n",
    "<li>Titanic.R: From last year, if you want some ideas on the workflow and are familiar with R then this file shows the process and submission for a logistic regression algorithm. "
   ]
  },
  {
   "cell_type": "code",
   "execution_count": 1,
   "metadata": {},
   "outputs": [],
   "source": [
    "## Import libraries\n",
    "import numpy as np\n",
    "import pandas as pd\n",
    "import matplotlib\n",
    "import matplotlib.pyplot as plt"
   ]
  },
  {
   "cell_type": "code",
   "execution_count": null,
   "metadata": {},
   "outputs": [],
   "source": [
    "## Import test and training data\n"
   ]
  },
  {
   "cell_type": "code",
   "execution_count": null,
   "metadata": {},
   "outputs": [],
   "source": [
    "## Describe variables in training data\n",
    "\n"
   ]
  },
  {
   "cell_type": "code",
   "execution_count": null,
   "metadata": {},
   "outputs": [],
   "source": [
    "## Remove missing data if needed\n",
    "\n"
   ]
  },
  {
   "cell_type": "code",
   "execution_count": null,
   "metadata": {},
   "outputs": [],
   "source": [
    "## Create dummy variables where needed\n",
    "\n"
   ]
  },
  {
   "cell_type": "code",
   "execution_count": null,
   "metadata": {},
   "outputs": [],
   "source": [
    "##  Create some visuals (for instance, survival rate by gender or age)\n",
    "\n"
   ]
  },
  {
   "cell_type": "code",
   "execution_count": null,
   "metadata": {},
   "outputs": [],
   "source": [
    "## Create some models\n",
    "# Some ideas: \n",
    "# Logistic regression, random forest, decision tree, support vector classifier\n",
    "# Can create a training and validation dataset from Training.csv to choose best model\n"
   ]
  },
  {
   "cell_type": "code",
   "execution_count": null,
   "metadata": {},
   "outputs": [],
   "source": [
    "# Clean test dataset"
   ]
  },
  {
   "cell_type": "code",
   "execution_count": null,
   "metadata": {},
   "outputs": [],
   "source": [
    "# Run model on test dataset"
   ]
  },
  {
   "cell_type": "code",
   "execution_count": null,
   "metadata": {},
   "outputs": [],
   "source": [
    "# Create csv file for kaggle submission"
   ]
  }
 ],
 "metadata": {
  "kernelspec": {
   "display_name": "Python 3",
   "language": "python",
   "name": "python3"
  },
  "language_info": {
   "codemirror_mode": {
    "name": "ipython",
    "version": 3
   },
   "file_extension": ".py",
   "mimetype": "text/x-python",
   "name": "python",
   "nbconvert_exporter": "python",
   "pygments_lexer": "ipython3",
   "version": "3.7.1"
  }
 },
 "nbformat": 4,
 "nbformat_minor": 2
}
